{
 "cells": [
  {
   "cell_type": "code",
   "execution_count": 1,
   "id": "4df6aeaf",
   "metadata": {},
   "outputs": [],
   "source": [
    "import os\n",
    "Root = (\"D:/Pinnacle/New_folder/speech-emotion-recognition\")\n",
    "os.chdir(Root)"
   ]
  },
  {
   "cell_type": "code",
   "execution_count": 2,
   "id": "28edd080",
   "metadata": {},
   "outputs": [
    {
     "name": "stdout",
     "output_type": "stream",
     "text": [
      " Volume in drive D is New Volume\n",
      " Volume Serial Number is E235-0182\n",
      "\n",
      " Directory of D:\\Pinnacle\\New_folder\\speech-emotion-recognition\n",
      "\n",
      "24-05-2023  13:50    <DIR>          .\n",
      "24-05-2023  13:50    <DIR>          ..\n",
      "23-03-2018  02:24    <DIR>          Actor_01\n",
      "23-03-2018  02:24    <DIR>          Actor_02\n",
      "23-03-2018  02:24    <DIR>          Actor_03\n",
      "23-03-2018  02:24    <DIR>          Actor_04\n",
      "23-03-2018  02:25    <DIR>          Actor_05\n",
      "23-03-2018  02:25    <DIR>          Actor_06\n",
      "23-03-2018  02:25    <DIR>          Actor_07\n",
      "23-03-2018  02:26    <DIR>          Actor_08\n",
      "23-03-2018  02:26    <DIR>          Actor_09\n",
      "23-03-2018  02:26    <DIR>          Actor_10\n",
      "23-03-2018  02:26    <DIR>          Actor_11\n",
      "23-03-2018  02:27    <DIR>          Actor_12\n",
      "23-03-2018  02:27    <DIR>          Actor_13\n",
      "23-03-2018  02:27    <DIR>          Actor_14\n",
      "23-03-2018  02:28    <DIR>          Actor_15\n",
      "23-03-2018  02:28    <DIR>          Actor_16\n",
      "23-03-2018  02:28    <DIR>          Actor_17\n",
      "23-03-2018  02:28    <DIR>          Actor_18\n",
      "23-03-2018  02:29    <DIR>          Actor_19\n",
      "23-03-2018  02:29    <DIR>          Actor_20\n",
      "23-03-2018  02:29    <DIR>          Actor_21\n",
      "23-03-2018  02:30    <DIR>          Actor_22\n",
      "23-03-2018  02:30    <DIR>          Actor_23\n",
      "23-03-2018  02:30    <DIR>          Actor_24\n",
      "24-05-2023  13:57         1,336,972 modelForPrediction.sav\n",
      "               1 File(s)      1,336,972 bytes\n",
      "              26 Dir(s)  167,860,776,960 bytes free\n"
     ]
    }
   ],
   "source": [
    "ls"
   ]
  },
  {
   "cell_type": "markdown",
   "id": "15e0cf29",
   "metadata": {},
   "source": [
    "# Library Import"
   ]
  },
  {
   "cell_type": "code",
   "execution_count": 3,
   "id": "bd66f818",
   "metadata": {},
   "outputs": [],
   "source": [
    "import librosa\n",
    "import soundfile\n",
    "import os,glob,pickle\n",
    "import numpy as np\n",
    "from sklearn.model_selection import train_test_split\n",
    "from sklearn.neural_network import MLPClassifier\n",
    "from sklearn.metrics import accuracy_score"
   ]
  },
  {
   "cell_type": "code",
   "execution_count": 8,
   "id": "2917d02a",
   "metadata": {},
   "outputs": [],
   "source": [
    "#Extract features (mfcc, chroma, mel) from a sound file\n",
    "def extract_feature(file_name, mfcc, chroma, mel):\n",
    "    with soundfile.SoundFile(file_name) as sound_file:\n",
    "        X = sound_file.read(dtype=\"float32\")\n",
    "        sample_rate=sound_file.samplerate\n",
    "        if chroma:\n",
    "            stft=np.abs(librosa.stft(X))\n",
    "        result=np.array([])\n",
    "        if mfcc:\n",
    "            mfccs=np.mean(librosa.feature.mfcc(y=X, sr=sample_rate, n_mfcc=40).T, axis=0)\n",
    "            result=np.hstack((result, mfccs))\n",
    "        if chroma:\n",
    "            chroma=np.mean(librosa.feature.chroma_stft(S=stft, sr=sample_rate).T,axis=0)\n",
    "            result=np.hstack((result, chroma))\n",
    "        if mel:\n",
    "            mel=np.mean(librosa.feature.melspectrogram(X, sr=sample_rate).T,axis=0)\n",
    "            result=np.hstack((result, mel))\n",
    "    return result"
   ]
  },
  {
   "cell_type": "code",
   "execution_count": 9,
   "id": "86a2a7a0",
   "metadata": {},
   "outputs": [],
   "source": [
    "# Emotions in the RAVDESS dataset\n",
    "emotions={\n",
    "  '01':'neutral',\n",
    "  '02':'calm',\n",
    "  '03':'happy',\n",
    "  '04':'sad',\n",
    "  '05':'angry',\n",
    "  '06':'fearful',\n",
    "  '07':'disgust',\n",
    "  '08':'surprised'\n",
    "}\n",
    "\n",
    "#Emotions to observe\n",
    "observed_emotions=['calm', 'happy', 'fearful', 'disgust']"
   ]
  },
  {
   "cell_type": "code",
   "execution_count": 10,
   "id": "9c0ff4ab",
   "metadata": {},
   "outputs": [],
   "source": [
    "#Load the data and extract features for each sound file\n",
    "def load_data(test_size=0.2):\n",
    "    x,y=[],[]\n",
    "    for file in glob.glob(\"D:/Pinnacle/New_folder/speech-emotion-recognition/Actor_*/*.wav\"):\n",
    "        file_name=os.path.basename(file)\n",
    "        emotion=emotions[file_name.split(\"-\")[2]]\n",
    "        if emotion not in observed_emotions:\n",
    "            continue\n",
    "        feature=extract_feature(file, mfcc=True, chroma=True, mel=True)\n",
    "        x.append(feature)\n",
    "        y.append(emotion)\n",
    "    return train_test_split(np.array(x), y, test_size=test_size, random_state=9)"
   ]
  },
  {
   "cell_type": "code",
   "execution_count": 11,
   "id": "c3641824",
   "metadata": {},
   "outputs": [],
   "source": [
    "#Split the dataset\n",
    "x_train,x_test,y_train,y_test=load_data(test_size=0.25)"
   ]
  },
  {
   "cell_type": "code",
   "execution_count": 12,
   "id": "9f786a1b",
   "metadata": {},
   "outputs": [
    {
     "data": {
      "text/plain": [
       "array([[-6.27527405e+02,  5.33894958e+01, -1.14486599e+01, ...,\n",
       "         9.81572015e-08,  1.39831098e-08,  6.95362701e-09],\n",
       "       [-5.27008179e+02,  5.93238449e+01, -3.09062500e+01, ...,\n",
       "         1.25772306e-06,  3.85467985e-07,  2.83241004e-08],\n",
       "       [-6.52832153e+02,  7.95012589e+01, -2.89284439e+01, ...,\n",
       "         2.20646292e-08,  8.29448954e-09,  7.72867725e-09],\n",
       "       ...,\n",
       "       [-4.68942535e+02,  4.98182716e+01, -2.75305996e+01, ...,\n",
       "         1.25355632e-06,  1.32783384e-07,  1.07083471e-08],\n",
       "       [-5.30277283e+02,  9.47237320e+01, -1.58368969e+01, ...,\n",
       "         4.47270565e-07,  1.22205975e-07,  1.75634849e-08],\n",
       "       [-5.16981506e+02,  6.73251495e+01, -2.13805180e+01, ...,\n",
       "         1.90207095e-06,  3.97173380e-07,  1.05029443e-07]])"
      ]
     },
     "execution_count": 12,
     "metadata": {},
     "output_type": "execute_result"
    }
   ],
   "source": [
    "x_train"
   ]
  },
  {
   "cell_type": "code",
   "execution_count": 13,
   "id": "0c134fd5",
   "metadata": {},
   "outputs": [
    {
     "name": "stdout",
     "output_type": "stream",
     "text": [
      "414 138\n"
     ]
    }
   ],
   "source": [
    "print(x_train.shape[0],x_test.shape[0])"
   ]
  },
  {
   "cell_type": "code",
   "execution_count": 14,
   "id": "ede6bd6d",
   "metadata": {},
   "outputs": [
    {
     "name": "stdout",
     "output_type": "stream",
     "text": [
      "Features extracted: 180 \n"
     ]
    }
   ],
   "source": [
    "print(f'Features extracted: {x_train.shape[1]} ')"
   ]
  },
  {
   "cell_type": "code",
   "execution_count": 15,
   "id": "c27392e1",
   "metadata": {},
   "outputs": [],
   "source": [
    "model = MLPClassifier(alpha=0.01,batch_size=256,epsilon=1e-08,hidden_layer_sizes=(300,),learning_rate='adaptive',max_iter=500)"
   ]
  },
  {
   "cell_type": "code",
   "execution_count": 16,
   "id": "0193c70c",
   "metadata": {},
   "outputs": [
    {
     "data": {
      "text/plain": [
       "MLPClassifier(alpha=0.01, batch_size=256, hidden_layer_sizes=(300,),\n",
       "              learning_rate='adaptive', max_iter=500)"
      ]
     },
     "execution_count": 16,
     "metadata": {},
     "output_type": "execute_result"
    }
   ],
   "source": [
    "# fitting model\n",
    "model.fit(x_train,y_train)"
   ]
  },
  {
   "cell_type": "code",
   "execution_count": 17,
   "id": "e82873d0",
   "metadata": {},
   "outputs": [
    {
     "data": {
      "text/plain": [
       "array(['happy', 'happy', 'fearful', 'calm', 'fearful', 'fearful',\n",
       "       'fearful', 'calm', 'happy', 'fearful', 'calm', 'fearful', 'happy',\n",
       "       'calm', 'fearful', 'calm', 'fearful', 'calm', 'calm', 'fearful',\n",
       "       'happy', 'calm', 'happy', 'fearful', 'fearful', 'calm', 'happy',\n",
       "       'fearful', 'calm', 'fearful', 'calm', 'calm', 'happy', 'calm',\n",
       "       'happy', 'calm', 'fearful', 'fearful', 'happy', 'calm', 'calm',\n",
       "       'calm', 'fearful', 'fearful', 'calm', 'fearful', 'calm', 'calm',\n",
       "       'fearful', 'calm', 'fearful', 'happy', 'happy', 'happy', 'happy',\n",
       "       'happy', 'fearful', 'happy', 'happy', 'calm', 'calm', 'happy',\n",
       "       'happy', 'happy', 'calm', 'happy', 'happy', 'fearful', 'happy',\n",
       "       'happy', 'fearful', 'happy', 'fearful', 'fearful', 'happy', 'calm',\n",
       "       'fearful', 'fearful', 'happy', 'calm', 'fearful', 'fearful',\n",
       "       'happy', 'calm', 'happy', 'happy', 'calm', 'happy', 'calm',\n",
       "       'happy', 'calm', 'calm', 'fearful', 'happy', 'fearful', 'fearful',\n",
       "       'calm', 'happy', 'fearful', 'calm', 'happy', 'happy', 'fearful',\n",
       "       'calm', 'happy', 'calm', 'happy', 'fearful', 'calm', 'fearful',\n",
       "       'happy', 'fearful', 'fearful', 'happy', 'fearful', 'happy', 'calm',\n",
       "       'calm', 'fearful', 'fearful', 'happy', 'happy', 'calm', 'happy',\n",
       "       'happy', 'fearful', 'fearful', 'happy', 'calm', 'fearful',\n",
       "       'fearful', 'happy', 'happy', 'happy', 'fearful', 'fearful', 'calm',\n",
       "       'fearful'], dtype='<U7')"
      ]
     },
     "execution_count": 17,
     "metadata": {},
     "output_type": "execute_result"
    }
   ],
   "source": [
    "# predicting\n",
    "y_pred = model.predict(x_test)\n",
    "y_pred"
   ]
  },
  {
   "cell_type": "code",
   "execution_count": 18,
   "id": "e50deeab",
   "metadata": {},
   "outputs": [
    {
     "name": "stdout",
     "output_type": "stream",
     "text": [
      "Accuracy: 92.75%\n"
     ]
    }
   ],
   "source": [
    "accuracy = accuracy_score(y_true=y_test,y_pred=y_pred)\n",
    "\n",
    "print(\"Accuracy: {:.2f}%\".format(accuracy*100))"
   ]
  },
  {
   "cell_type": "code",
   "execution_count": 19,
   "id": "83e59c12",
   "metadata": {},
   "outputs": [
    {
     "data": {
      "text/plain": [
       "array([0.88888889, 0.97959184, 0.90721649])"
      ]
     },
     "execution_count": 19,
     "metadata": {},
     "output_type": "execute_result"
    }
   ],
   "source": [
    "from sklearn.metrics import accuracy_score, f1_score\n",
    "\n",
    "f1_score(y_test,y_pred,average=None)"
   ]
  },
  {
   "cell_type": "code",
   "execution_count": 20,
   "id": "d52c491d",
   "metadata": {},
   "outputs": [],
   "source": [
    "# saving the model\n",
    "import pickle\n",
    "with open('modelForPrediction.sav','wb') as f:\n",
    "    pickle.dump(model,f)"
   ]
  },
  {
   "cell_type": "code",
   "execution_count": 22,
   "id": "d775fe16",
   "metadata": {},
   "outputs": [
    {
     "data": {
      "text/plain": [
       "array(['fearful'], dtype='<U7')"
      ]
     },
     "execution_count": 22,
     "metadata": {},
     "output_type": "execute_result"
    }
   ],
   "source": [
    "filename = 'modelforprediction.sav'\n",
    "\n",
    "loaded_model = pickle.load(open(filename,'rb'))\n",
    "\n",
    "feature = extract_feature(\"D:/Pinnacle/New_folder/speech-emotion-recognition/Actor_17/03-02-01-01-01-02-17.wav\",mfcc=True, chroma=True, mel=True)\n",
    "\n",
    "feature = feature.reshape(1,-1)\n",
    "\n",
    "prediction = loaded_model.predict(feature)\n",
    "\n",
    "prediction"
   ]
  },
  {
   "cell_type": "code",
   "execution_count": null,
   "id": "12131945",
   "metadata": {},
   "outputs": [],
   "source": []
  }
 ],
 "metadata": {
  "kernelspec": {
   "display_name": "Python 3 (ipykernel)",
   "language": "python",
   "name": "python3"
  },
  "language_info": {
   "codemirror_mode": {
    "name": "ipython",
    "version": 3
   },
   "file_extension": ".py",
   "mimetype": "text/x-python",
   "name": "python",
   "nbconvert_exporter": "python",
   "pygments_lexer": "ipython3",
   "version": "3.9.7"
  }
 },
 "nbformat": 4,
 "nbformat_minor": 5
}
